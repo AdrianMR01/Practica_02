{
 "cells": [
  {
   "cell_type": "markdown",
   "metadata": {},
   "source": [
    "## Practica 2"
   ]
  },
  {
   "cell_type": "markdown",
   "metadata": {},
   "source": [
    "*Ejercicio 2*"
   ]
  },
  {
   "cell_type": "code",
   "execution_count": 1,
   "metadata": {
    "scrolled": true
   },
   "outputs": [
    {
     "name": "stdout",
     "output_type": "stream",
     "text": [
      "2020Audia4\n",
      "This car has 0 miles on it\n"
     ]
    }
   ],
   "source": [
    "class Car(): \n",
    "    \"\"\"Clase tipo coche\"\"\" \n",
    "    def __init__(self, make, model, year): \n",
    "        \"\"\"Inicializacion de los atributos\"\"\"\n",
    "        self.make = make \n",
    "        self.model = model\n",
    "        self.year = year\n",
    "        self.odometer_reading = 0\n",
    "        \n",
    "    def get_descriptive_name(self): \n",
    "        \"\"\" Imprime las caracteristicas en la pantalla\"\"\" \n",
    "        long_name = str(self.year)+''+self.make +''+self.model\n",
    "        return long_name.title() \n",
    "    \n",
    "    def read_odometer(sefl): \n",
    "        \"\"\"Imprime los kilometros recorrido por el auto\"\"\"\n",
    "        print(\"This car has \" + str(sefl.odometer_reading) + \" miles on it\") \n",
    "\n",
    "my_new_car = Car('audi','a4',2020) \n",
    "print(my_new_car.get_descriptive_name())\n",
    "my_new_car.read_odometer()"
   ]
  },
  {
   "cell_type": "code",
   "execution_count": 1,
   "metadata": {},
   "outputs": [
    {
     "name": "stdout",
     "output_type": "stream",
     "text": [
      "2020 Audi A4\n",
      "This car has 0 miles on it\n"
     ]
    }
   ],
   "source": [
    "class Car(): \n",
    "    \"\"\"Clase tipo coche\"\"\" \n",
    "    def __init__(self, make, model, year): \n",
    "        \"\"\"Inicializacion de los atributos\"\"\"\n",
    "        self.make = make \n",
    "        self.model = model\n",
    "        self.year = year\n",
    "        \n",
    "    def get_descriptive_name(self): \n",
    "        \"\"\" Imprime las caracteristicas en la pantalla\"\"\" \n",
    "        long_name = str(self.year)+' '+self.make +' '+self.model\n",
    "        return long_name.title() \n",
    "    \n",
    "    def read_odometer(self): \n",
    "        \"\"\"Imprime los kilometros recorrido por el auto\"\"\"\n",
    "        self.odometer_reading=0\n",
    "        print(\"This car has \" + str(self.odometer_reading) + \" miles on it\") \n",
    "\n",
    "my_new_car = Car('audi','a4',2020) \n",
    "print(my_new_car.get_descriptive_name())\n",
    "my_new_car.read_odometer()"
   ]
  },
  {
   "cell_type": "markdown",
   "metadata": {},
   "source": [
    "*El error esta el la escritura de self en la linea 13 pues esta escrito com sefl*"
   ]
  },
  {
   "cell_type": "code",
   "execution_count": 1,
   "metadata": {},
   "outputs": [
    {
     "name": "stdout",
     "output_type": "stream",
     "text": [
      "2020 Audi A4\n",
      "This car has 0 miles on it\n",
      "This car has 0 liters on it\n",
      "This car has a maxium speed of 120 km/h\n"
     ]
    }
   ],
   "source": [
    "class Car(): \n",
    "    \"\"\"Clase tipo coche\"\"\" \n",
    "    def __init__(self, make, model, year): \n",
    "        \"\"\"Inicializacion de los atributos\"\"\"\n",
    "        self.make = make \n",
    "        self.model = model\n",
    "        self.year = year\n",
    "        self.gasoline_liters=0\n",
    "        self.odometer_reading=0\n",
    "        self.max_velocity=120\n",
    "    def get_descriptive_name(self): \n",
    "        \"\"\" Imprime las caracteristicas en la pantalla\"\"\" \n",
    "        long_name = str(self.year)+' '+self.make +' '+self.model\n",
    "        return long_name.title() \n",
    "    \n",
    "    def read_odometer(self): \n",
    "        \"\"\"Imprime los kilometros recorrido por el auto\"\"\"\n",
    "        self.odometer_reading=0\n",
    "        print(\"This car has \" + str(self.odometer_reading) + \" miles on it\") \n",
    "\n",
    "    def read_liters_gasoline(self): \n",
    "        \"\"\"Imprime los litros de gasolina del auto\"\"\"\n",
    "        print(\"This car has \" + str(self.gasoline_liters) + \" liters on it\")\n",
    "    def read_max_velocity(self): \n",
    "        \"\"\"Imprime la maxima velocidad que alcanza el auto\"\"\"\n",
    "        print(\"This car has a maxium speed of \" + str(self.max_velocity) + \" km/h\")\n",
    "my_new_car = Car('audi','a4',2020) \n",
    "print(my_new_car.get_descriptive_name())\n",
    "my_new_car.read_odometer()\n",
    "my_new_car.read_liters_gasoline()\n",
    "my_new_car.read_max_velocity()"
   ]
  },
  {
   "cell_type": "code",
   "execution_count": null,
   "metadata": {},
   "outputs": [],
   "source": []
  }
 ],
 "metadata": {
  "kernelspec": {
   "display_name": "Python 3",
   "language": "python",
   "name": "python3"
  },
  "language_info": {
   "codemirror_mode": {
    "name": "ipython",
    "version": 3
   },
   "file_extension": ".py",
   "mimetype": "text/x-python",
   "name": "python",
   "nbconvert_exporter": "python",
   "pygments_lexer": "ipython3",
   "version": "3.7.4"
  }
 },
 "nbformat": 4,
 "nbformat_minor": 2
}
