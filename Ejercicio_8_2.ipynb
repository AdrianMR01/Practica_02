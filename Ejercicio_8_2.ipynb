{
 "cells": [
  {
   "cell_type": "markdown",
   "metadata": {},
   "source": [
    "### *Ejercicio 8.2*"
   ]
  },
  {
   "cell_type": "code",
   "execution_count": 6,
   "metadata": {},
   "outputs": [
    {
     "name": "stdout",
     "output_type": "stream",
     "text": [
      "2020 Camaro Model Z\n",
      "This car have a batery of 100 kWh\n",
      "This car have 3 in the trunk\n",
      "The battery still holds a few kilometers\n",
      "2020 Audi Model \n",
      "This car have a 4 door in total\n",
      "A door is not closed please check\n"
     ]
    }
   ],
   "source": [
    "class Car():\n",
    "    def __init__(self, make, model, year): \n",
    "        self.make = make \n",
    "        self.model = model \n",
    "        self.year = year \n",
    "        self.odometer_reading = 0 \n",
    "    def get_descriptive_name(self): \n",
    "        long_name = str(self.year) + ' ' + self.make + ' ' + self.model \n",
    "        return long_name.title()\n",
    "    def read_odometer(self): \n",
    "        print(\"This car has \" + str(self.odometer_reading) + \" miles on it.\")\n",
    "\n",
    "    def update_odometer(self, mileage): \n",
    "        if mileage >= self.odometer_reading: \n",
    "            self.odometer_reading = mileage \n",
    "        else: \n",
    "            print(\"You can’t roll back an odometer!\")\n",
    "    \n",
    "    def increment_odometer(self, miles): \n",
    "        self.odometer_reading += miles\n",
    "        \n",
    "class ElectricCar(Car):\n",
    "    def __init__(self,make,model,year): \n",
    "        super().__init__(make,model,year)\n",
    "\n",
    "class HibrydCar(Car):\n",
    "    def __init__(self,make,model,year):\n",
    "        super().__init__(make,model,year)\n",
    "        self.batery = 100\n",
    "        self.Spare_tires = 3\n",
    "    def describe_HibrydCar(self):\n",
    "        print ('This car have a batery of ' + str(self.batery) + ' kWh' )\n",
    "        print ('This car have ' + str(self.Spare_tires) + ' in the trunk' )\n",
    "    def charge(self):\n",
    "        print('The battery still holds a few kilometers')\n",
    "class FullCar(Car):\n",
    "    def __init__(self,make,model,year):\n",
    "        super().__init__(make,model,year)\n",
    "        self.doors=4\n",
    "        \n",
    "    def describe_FullCar(self):\n",
    "        print ('This car have a ' + str(self.doors) + ' door in total')\n",
    "    def charge(self):\n",
    "        print('A door is not closed please check')\n",
    "my_new_h_car = HibrydCar('camaro','model Z',2020) \n",
    "print(my_new_h_car.get_descriptive_name())\n",
    "my_new_h_car.describe_HibrydCar()\n",
    "my_new_h_car.charge()\n",
    "my_new_f_car = FullCar('audi','model ',2020) \n",
    "print(my_new_f_car.get_descriptive_name())\n",
    "my_new_f_car.describe_FullCar()\n",
    "my_new_f_car.charge()"
   ]
  },
  {
   "cell_type": "code",
   "execution_count": null,
   "metadata": {},
   "outputs": [],
   "source": []
  }
 ],
 "metadata": {
  "kernelspec": {
   "display_name": "Python 3",
   "language": "python",
   "name": "python3"
  },
  "language_info": {
   "codemirror_mode": {
    "name": "ipython",
    "version": 3
   },
   "file_extension": ".py",
   "mimetype": "text/x-python",
   "name": "python",
   "nbconvert_exporter": "python",
   "pygments_lexer": "ipython3",
   "version": "3.7.4"
  }
 },
 "nbformat": 4,
 "nbformat_minor": 2
}
