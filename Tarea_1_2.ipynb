{
 "cells": [
  {
   "cell_type": "code",
   "execution_count": 1,
   "metadata": {},
   "outputs": [
    {
     "name": "stdout",
     "output_type": "stream",
     "text": [
      "El restaurante Takari\n",
      "Ya abrio Takari hace comida japonesa\n",
      "El restaurant Takari\n",
      "Abre de Lunes a Domingo de 0hrs a 24hrs\n",
      "Hemos atendido 100 personas hasta el momento\n"
     ]
    }
   ],
   "source": [
    "class Restaurant():\n",
    "    def __init__(self, restaurant_name, cuisine_type, open_R, close_R):\n",
    "        self.restaurant_name = restaurant_name\n",
    "        self.cuisine_type = cuisine_type\n",
    "        self.open_R = open_R\n",
    "        self.close_R = close_R\n",
    "        self.number_served = 0\n",
    "    def describe_resaturant(self):\n",
    "        print ('Ya abrio ' + self.restaurant_name + \n",
    "' hace comida ' + self.cuisine_type)\n",
    "    def open_restaurant(self):\n",
    "        print('El restaurant ' + self.restaurant_name +\n",
    "'\\nAbre de Lunes a Domingo de ' + str(self.open_R) + 'hrs ' + 'a ' + str(self.close_R) + 'hrs')\n",
    "    def customers_served(self):\n",
    "        print('Hemos atendido ' + str(self.number_served) + \n",
    "' personas hasta el momento')\n",
    "    def set_number_served(self, customers_served):\n",
    "        if customers_served >= self.number_served:\n",
    "            self.number_served = customers_served\n",
    "        else: print (\"That can not be done\")\n",
    "            \n",
    "The_Restaurant= Restaurant(\"Takari\",'japonesa',0,24)\n",
    "print(\"El restaurante \" + The_Restaurant.restaurant_name)\n",
    "The_Restaurant.describe_resaturant()\n",
    "The_Restaurant.open_restaurant()\n",
    "The_Restaurant.number_served = 100\n",
    "The_Restaurant.customers_served()"
   ]
  },
  {
   "cell_type": "code",
   "execution_count": null,
   "metadata": {},
   "outputs": [],
   "source": []
  }
 ],
 "metadata": {
  "kernelspec": {
   "display_name": "Python 3",
   "language": "python",
   "name": "python3"
  },
  "language_info": {
   "codemirror_mode": {
    "name": "ipython",
    "version": 3
   },
   "file_extension": ".py",
   "mimetype": "text/x-python",
   "name": "python",
   "nbconvert_exporter": "python",
   "pygments_lexer": "ipython3",
   "version": "3.7.4"
  }
 },
 "nbformat": 4,
 "nbformat_minor": 2
}
